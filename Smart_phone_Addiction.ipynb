{
  "nbformat": 4,
  "nbformat_minor": 0,
  "metadata": {
    "colab": {
      "provenance": []
    },
    "kernelspec": {
      "name": "python3",
      "display_name": "Python 3"
    },
    "language_info": {
      "name": "python"
    }
  },
  "cells": [
    {
      "cell_type": "code",
      "source": [
        "import pandas as pd\n",
        "df=pd.read_csv(\"/content/Smart_phone_addiction.csv\")"
      ],
      "metadata": {
        "id": "bGqoIoapQfCE"
      },
      "execution_count": null,
      "outputs": []
    },
    {
      "cell_type": "code",
      "source": [
        "df.columns"
      ],
      "metadata": {
        "colab": {
          "base_uri": "https://localhost:8080/"
        },
        "id": "Q5vYezf2Q9OG",
        "outputId": "f58ca1de-ea56-4bc2-940c-2a142318bfcc"
      },
      "execution_count": null,
      "outputs": [
        {
          "output_type": "execute_result",
          "data": {
            "text/plain": [
              "Index(['Timestamp', 'Full Name :', 'Gender :',\n",
              "       'Do you use your phone to click pictures of class notes?',\n",
              "       'Do you buy books/access books from your mobile?',\n",
              "       'Does your phone's battery last a day?',\n",
              "       'When your phone's battery dies out, do you run for the charger?',\n",
              "       'Do you worry about losing your cell phone?',\n",
              "       'Do you take your phone to the bathroom?',\n",
              "       'Do you use your phone in any social gathering (parties)?',\n",
              "       'Do you often check your phone without any notification? ',\n",
              "       'Do you check your phone just before going to sleep/just after waking up?',\n",
              "       'Do you keep your phone right next to you while sleeping?',\n",
              "       'Do you check emails, missed calls, texts during class time? ',\n",
              "       'Do you find yourself relying on your phone when things get awkward?',\n",
              "       'Are you on your phone while watching TV or eating food?',\n",
              "       'Do you have a panic attack if you leave your phone elsewhere?',\n",
              "       'You don't mind responding to messages or checking your phone while on date? ',\n",
              "       'For how long do you use your phone for playing games?',\n",
              "       'Can you live a day without phone ? ',\n",
              "       'whether you are addicted to phone?'],\n",
              "      dtype='object')"
            ]
          },
          "metadata": {},
          "execution_count": 11
        }
      ]
    },
    {
      "cell_type": "code",
      "source": [
        "# Import Libraries\n",
        "import pandas as pd\n",
        "import numpy as np\n",
        "from sklearn.model_selection import train_test_split\n",
        "from sklearn.linear_model import LogisticRegression\n",
        "from sklearn.metrics import classification_report, accuracy_score\n",
        "from sklearn.preprocessing import LabelEncoder\n",
        "import pickle\n",
        "# Import the necessary module for downloading in Google Colab\n",
        "from google.colab import files\n",
        "\n",
        "\n",
        "# Select Important Columns\n",
        "important_columns = [\n",
        "    'Do you use your phone to click pictures of class notes?',\n",
        "    'Do you buy books/access books from your mobile?',\n",
        "    'Does your phone\\'s battery last a day?',\n",
        "    'When your phone\\'s battery dies out, do you run for the charger?',\n",
        "    'Do you worry about losing your cell phone?',\n",
        "    'Do you take your phone to the bathroom?',\n",
        "    'whether you are addicted to phone?'\n",
        "]\n",
        "df = df[important_columns]\n",
        "\n",
        "# Encode Categorical Columns\n",
        "label_encoder = LabelEncoder()\n",
        "for col in df.columns:\n",
        "    if df[col].dtype == 'object':\n",
        "        df[col] = label_encoder.fit_transform(df[col])\n",
        "\n",
        "# Split Features and Target\n",
        "X = df.drop(columns=['whether you are addicted to phone?'])\n",
        "y = df['whether you are addicted to phone?']\n",
        "\n",
        "# Train-Test Split\n",
        "X_train, X_test, y_train, y_test = train_test_split(X, y, test_size=0.2, random_state=42)\n",
        "\n",
        "# Train Model\n",
        "model = LogisticRegression(random_state=42)\n",
        "model.fit(X_train, y_train)\n",
        "\n",
        "# Evaluate Model\n",
        "predictions = model.predict(X_test)\n",
        "print(\"Classification Report:\\n\", classification_report(y_test, predictions))\n",
        "print(\"\\nAccuracy:\", accuracy_score(y_test, predictions))\n",
        "\n",
        "# Save the Model Using Pickle\n",
        "with open('phone_addiction_model.pkl', 'wb') as f:\n",
        "    pickle.dump(model, f)\n",
        "\n",
        "# Download the model using the imported files module\n",
        "files.download('phone_addiction_model.pkl')"
      ],
      "metadata": {
        "colab": {
          "base_uri": "https://localhost:8080/",
          "height": 249
        },
        "id": "cDY6abN9TXIw",
        "outputId": "8ea00f92-4d0b-40da-aca2-e7a3103cd111"
      },
      "execution_count": null,
      "outputs": [
        {
          "output_type": "stream",
          "name": "stdout",
          "text": [
            "Classification Report:\n",
            "               precision    recall  f1-score   support\n",
            "\n",
            "           0       0.80      0.84      0.82        61\n",
            "           1       0.70      0.67      0.68        39\n",
            "           2       0.00      0.00      0.00         1\n",
            "\n",
            "    accuracy                           0.76       101\n",
            "   macro avg       0.50      0.50      0.50       101\n",
            "weighted avg       0.75      0.76      0.76       101\n",
            "\n",
            "\n",
            "Accuracy: 0.7623762376237624\n"
          ]
        },
        {
          "output_type": "display_data",
          "data": {
            "text/plain": [
              "<IPython.core.display.Javascript object>"
            ],
            "application/javascript": [
              "\n",
              "    async function download(id, filename, size) {\n",
              "      if (!google.colab.kernel.accessAllowed) {\n",
              "        return;\n",
              "      }\n",
              "      const div = document.createElement('div');\n",
              "      const label = document.createElement('label');\n",
              "      label.textContent = `Downloading \"${filename}\": `;\n",
              "      div.appendChild(label);\n",
              "      const progress = document.createElement('progress');\n",
              "      progress.max = size;\n",
              "      div.appendChild(progress);\n",
              "      document.body.appendChild(div);\n",
              "\n",
              "      const buffers = [];\n",
              "      let downloaded = 0;\n",
              "\n",
              "      const channel = await google.colab.kernel.comms.open(id);\n",
              "      // Send a message to notify the kernel that we're ready.\n",
              "      channel.send({})\n",
              "\n",
              "      for await (const message of channel.messages) {\n",
              "        // Send a message to notify the kernel that we're ready.\n",
              "        channel.send({})\n",
              "        if (message.buffers) {\n",
              "          for (const buffer of message.buffers) {\n",
              "            buffers.push(buffer);\n",
              "            downloaded += buffer.byteLength;\n",
              "            progress.value = downloaded;\n",
              "          }\n",
              "        }\n",
              "      }\n",
              "      const blob = new Blob(buffers, {type: 'application/binary'});\n",
              "      const a = document.createElement('a');\n",
              "      a.href = window.URL.createObjectURL(blob);\n",
              "      a.download = filename;\n",
              "      div.appendChild(a);\n",
              "      a.click();\n",
              "      div.remove();\n",
              "    }\n",
              "  "
            ]
          },
          "metadata": {}
        },
        {
          "output_type": "display_data",
          "data": {
            "text/plain": [
              "<IPython.core.display.Javascript object>"
            ],
            "application/javascript": [
              "download(\"download_dd622e7d-34c8-45bc-a423-5a70a0bfe955\", \"phone_addiction_model.pkl\", 1335)"
            ]
          },
          "metadata": {}
        }
      ]
    },
    {
      "cell_type": "code",
      "source": [],
      "metadata": {
        "id": "tfLGHHB1o0jf"
      },
      "execution_count": null,
      "outputs": []
    }
  ]
}